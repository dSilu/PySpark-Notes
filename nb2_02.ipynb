{
 "cells": [
  {
   "attachments": {},
   "cell_type": "markdown",
   "metadata": {},
   "source": [
    "## Calculate Page Rank"
   ]
  },
  {
   "attachments": {},
   "cell_type": "markdown",
   "metadata": {},
   "source": [
    "- [Page Rank algorithm](https://en.wikipedia.org/wiki/PageRank) was developed by _Sergey Brin_ and _Larry Page_ (founders of Google). \n",
    "\n",
    "- The page rank of a particular web page indicates its relative importance within a group of web pages.\n",
    "\n",
    "- Importance of a page is defined by the importance of all the web pages that provided an outbound link to the web page in consideration.\n",
    "\n",
    "    _If page A is out-bounding to page B and page A has a higher relative importance, then page B also has the high importance._\n",
    "\n",
    "- Higher the page rank, higher up it will appear in a search.\n",
    "\n",
    "$$ PR(u) = \\sum\\limits_{v \\in B_u} \\frac{PR(v)}{L(v)}$$\n",
    "\n",
    "_where_\n",
    "\n",
    "- $PR(u)$: page rank of page _u_\n",
    "\n",
    "- $B_u$: a set of pages that links to page _u_\n",
    "\n",
    "- $PR(v)$: each page _v_ in the set $B_u$\n",
    "\n",
    "- $L(v)$: number of links from page _v_"
   ]
  },
  {
   "cell_type": "code",
   "execution_count": 1,
   "metadata": {},
   "outputs": [
    {
     "name": "stderr",
     "output_type": "stream",
     "text": [
      "Setting default log level to \"WARN\".\n",
      "To adjust logging level use sc.setLogLevel(newLevel). For SparkR, use setLogLevel(newLevel).\n"
     ]
    },
    {
     "name": "stdout",
     "output_type": "stream",
     "text": [
      "22/12/25 01:49:43 WARN NativeCodeLoader: Unable to load native-hadoop library for your platform... using builtin-java classes where applicable\n",
      "22/12/25 01:49:45 WARN Utils: Service 'SparkUI' could not bind on port 4040. Attempting port 4041.\n"
     ]
    },
    {
     "data": {
      "text/html": [
       "\n",
       "            <div>\n",
       "                <p><b>SparkSession - in-memory</b></p>\n",
       "                \n",
       "        <div>\n",
       "            <p><b>SparkContext</b></p>\n",
       "\n",
       "            <p><a href=\"http://fedora:4041\">Spark UI</a></p>\n",
       "\n",
       "            <dl>\n",
       "              <dt>Version</dt>\n",
       "                <dd><code>v3.3.1</code></dd>\n",
       "              <dt>Master</dt>\n",
       "                <dd><code>local[*]</code></dd>\n",
       "              <dt>AppName</dt>\n",
       "                <dd><code>PR-Algo</code></dd>\n",
       "            </dl>\n",
       "        </div>\n",
       "        \n",
       "            </div>\n",
       "        "
      ],
      "text/plain": [
       "<pyspark.sql.session.SparkSession at 0x7f6c560e8910>"
      ]
     },
     "execution_count": 1,
     "metadata": {},
     "output_type": "execute_result"
    }
   ],
   "source": [
    "import findspark\n",
    "findspark.init()\n",
    "import pyspark\n",
    "\n",
    "from pyspark.sql import SparkSession\n",
    "spark = SparkSession.builder.appName(\"PR-Algo\").getOrCreate()\n",
    "\n",
    "import warnings\n",
    "warnings.filterwarnings(\"ignore\")\n",
    "\n",
    "spark"
   ]
  },
  {
   "cell_type": "code",
   "execution_count": 8,
   "metadata": {},
   "outputs": [],
   "source": [
    "# create nested lists of web pages with outbound links and initializing rank\n",
    "\n",
    "page_links = [ \n",
    "    [\"a\", [\"b\", \"c\", \"d\"]],\n",
    "    [\"c\", [\"b\"]],\n",
    "    [\"b\", [\"d\", \"c\"]],\n",
    "    [\"d\", [\"a\", \"c\"]]\n",
    "]\n",
    "\n",
    "page_ranks = [ \n",
    "    [\"a\", 1],\n",
    "    [\"c\", 1],\n",
    "    [\"b\", 1],\n",
    "    [\"d\", 1]\n",
    "]\n",
    "\n",
    "page_links_rdd = spark.sparkContext.parallelize(page_links, 2)\n",
    "page_rank_rdd = spark.sparkContext.parallelize(page_ranks, 2)\n"
   ]
  },
  {
   "cell_type": "code",
   "execution_count": 9,
   "metadata": {},
   "outputs": [
    {
     "name": "stderr",
     "output_type": "stream",
     "text": [
      "                                                                                \r"
     ]
    },
    {
     "data": {
      "text/plain": [
       "[['a', ['b', 'c', 'd']], ['c', ['b']], ['b', ['d', 'c']], ['d', ['a', 'c']]]"
      ]
     },
     "execution_count": 9,
     "metadata": {},
     "output_type": "execute_result"
    }
   ],
   "source": [
    "page_links_rdd.collect()"
   ]
  },
  {
   "cell_type": "code",
   "execution_count": 10,
   "metadata": {},
   "outputs": [
    {
     "data": {
      "text/plain": [
       "[['a', 1], ['c', 1], ['b', 1], ['d', 1]]"
      ]
     },
     "execution_count": 10,
     "metadata": {},
     "output_type": "execute_result"
    }
   ],
   "source": [
    "page_rank_rdd.collect()"
   ]
  },
  {
   "cell_type": "code",
   "execution_count": 18,
   "metadata": {},
   "outputs": [],
   "source": [
    "def rank_contributions(uris: list, rank: int):\n",
    "    \"\"\"function to calculate contributions\n",
    "\n",
    "    Args:\n",
    "        uris (list): list of web page URIs which provide outbound links to other web pages.\n",
    "        rank (int): rank of the web pages accessed through the outbound links\n",
    "\n",
    "    Returns:\n",
    "        list: contribution to all web pages\n",
    "    \"\"\"\n",
    "    num_uris = len(uris)\n",
    "    rank_cont = float(rank)/num_uris # rank contribution\n",
    "    new_rank = []\n",
    "\n",
    "    for uri in uris:\n",
    "        new_rank.append((uri, rank_cont))\n",
    "    \n",
    "    return new_rank\n",
    "\n"
   ]
  },
  {
   "cell_type": "code",
   "execution_count": 21,
   "metadata": {},
   "outputs": [],
   "source": [
    "# loop for updating page rank\n",
    "\n",
    "num_iter = 20\n",
    "s = 0.85\n",
    "\n",
    "for i in range(num_iter):\n",
    "    links_rank = page_links_rdd.join(page_rank_rdd)\n",
    "    contributed_rdd = links_rank.flatMap(lambda x: rank_contributions(x[1][0], x[1][1]))\n",
    "    sum_ranks = contributed_rdd.reduceByKey(lambda v1, v2: v1+v2)\n",
    "    page_rank_rdd = sum_ranks.map(lambda x: (x[0], (1-s) + s*x[1]))"
   ]
  },
  {
   "cell_type": "code",
   "execution_count": 22,
   "metadata": {},
   "outputs": [
    {
     "name": "stderr",
     "output_type": "stream",
     "text": [
      "                                                                                \r"
     ]
    },
    {
     "data": {
      "text/plain": [
       "[('a', 0.5217268024809147),\n",
       " ('b', 1.357243795127982),\n",
       " ('c', 1.2463781024360086),\n",
       " ('d', 0.8746512999550939)]"
      ]
     },
     "execution_count": 22,
     "metadata": {},
     "output_type": "execute_result"
    }
   ],
   "source": [
    "page_rank_rdd.collect()"
   ]
  },
  {
   "cell_type": "code",
   "execution_count": null,
   "metadata": {},
   "outputs": [],
   "source": []
  }
 ],
 "metadata": {
  "kernelspec": {
   "display_name": "spark_ttl_env",
   "language": "python",
   "name": "python3"
  },
  "language_info": {
   "codemirror_mode": {
    "name": "ipython",
    "version": 3
   },
   "file_extension": ".py",
   "mimetype": "text/x-python",
   "name": "python",
   "nbconvert_exporter": "python",
   "pygments_lexer": "ipython3",
   "version": "3.10.9"
  },
  "orig_nbformat": 4,
  "vscode": {
   "interpreter": {
    "hash": "7e5fe3c56a0f8f95c221320b0bd7b50af4bf76cfb19c727317c7f47c8ed217d1"
   }
  }
 },
 "nbformat": 4,
 "nbformat_minor": 2
}
