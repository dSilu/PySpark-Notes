{
 "cells": [
  {
   "attachments": {},
   "cell_type": "markdown",
   "metadata": {},
   "source": [
    "## Exploratory Data Analysis on PySpark DataFrame"
   ]
  },
  {
   "attachments": {},
   "cell_type": "markdown",
   "metadata": {},
   "source": [
    "- `PySpark.sql.SaprkSession.read.csv` is used to read a file from storage and convert it to a DataFrame.\n",
    "\n",
    "- The package `com.databricks.spark.csv` that was developed by Databricks and merged with PySpark 2.x.x.x is used in background to convert the data to a DataFrame.\n"
   ]
  },
  {
   "cell_type": "code",
   "execution_count": 1,
   "metadata": {},
   "outputs": [
    {
     "name": "stderr",
     "output_type": "stream",
     "text": [
      "Setting default log level to \"WARN\".\n",
      "To adjust logging level use sc.setLogLevel(newLevel). For SparkR, use setLogLevel(newLevel).\n"
     ]
    },
    {
     "name": "stdout",
     "output_type": "stream",
     "text": [
      "22/12/25 20:51:30 WARN NativeCodeLoader: Unable to load native-hadoop library for your platform... using builtin-java classes where applicable\n"
     ]
    },
    {
     "data": {
      "text/html": [
       "\n",
       "            <div>\n",
       "                <p><b>SparkSession - in-memory</b></p>\n",
       "                \n",
       "        <div>\n",
       "            <p><b>SparkContext</b></p>\n",
       "\n",
       "            <p><a href=\"http://fedora:4040\">Spark UI</a></p>\n",
       "\n",
       "            <dl>\n",
       "              <dt>Version</dt>\n",
       "                <dd><code>v3.3.1</code></dd>\n",
       "              <dt>Master</dt>\n",
       "                <dd><code>local[*]</code></dd>\n",
       "              <dt>AppName</dt>\n",
       "                <dd><code>EDA-App</code></dd>\n",
       "            </dl>\n",
       "        </div>\n",
       "        \n",
       "            </div>\n",
       "        "
      ],
      "text/plain": [
       "<pyspark.sql.session.SparkSession at 0x7f4a63f39390>"
      ]
     },
     "execution_count": 1,
     "metadata": {},
     "output_type": "execute_result"
    }
   ],
   "source": [
    "import findspark\n",
    "findspark.init()\n",
    "import pyspark\n",
    "\n",
    "from pyspark.sql import SparkSession\n",
    "from pyspark.sql.types import *\n",
    "\n",
    "spark = SparkSession.builder.appName(\"EDA-App\").getOrCreate()\n",
    "\n",
    "import warnings\n",
    "warnings.filterwarnings(\"ignore\")\n",
    "\n",
    "spark"
   ]
  },
  {
   "cell_type": "code",
   "execution_count": 2,
   "metadata": {},
   "outputs": [],
   "source": [
    "col_filamentType = StructField(\"FilamentType\", StringType(), True)\n",
    "col_bulbPower = StructField(\"BulbPower\", StringType(), True)\n",
    "col_lifeInHours = StructField(\"LifeInHours\", DoubleType(), True)\n",
    "\n",
    "filament_data_schema = StructType([col_filamentType, col_bulbPower, col_lifeInHours])"
   ]
  },
  {
   "cell_type": "code",
   "execution_count": 3,
   "metadata": {},
   "outputs": [
    {
     "name": "stderr",
     "output_type": "stream",
     "text": [
      "[Stage 0:>                                                          (0 + 1) / 1]\r"
     ]
    },
    {
     "name": "stdout",
     "output_type": "stream",
     "text": [
      "22/12/25 20:58:37 WARN CSVHeaderChecker: CSV header does not conform to the schema.\n",
      " Header: filamentType, BulbPower, Life\n",
      " Schema: FilamentType, BulbPower, LifeInHours\n",
      "Expected: LifeInHours but found: Life\n",
      "CSV file: file:///run/media/ashrulochan/Sector8/Books-and-Notes/To_be_continued/PySparkRecipes/filament_data.csv\n",
      "+------------+---------+-----------+\n",
      "|FilamentType|BulbPower|LifeInHours|\n",
      "+------------+---------+-----------+\n",
      "|   filamentA|     100W|      605.0|\n",
      "|   filamentB|     100W|      683.0|\n",
      "|   filamentB|     100W|      691.0|\n",
      "|   filamentB|     200W|      561.0|\n",
      "|   filamentA|     200W|      530.0|\n",
      "|   filamentA|     100W|      619.0|\n",
      "|   filamentB|     100W|      686.0|\n",
      "|   filamentB|     200W|      600.0|\n",
      "|   filamentB|     100W|      696.0|\n",
      "|   filamentA|     200W|      579.0|\n",
      "|   filamentA|     200W|      520.0|\n",
      "|   filamentA|     100W|      622.0|\n",
      "|   filamentA|     100W|      668.0|\n",
      "|   filamentB|     200W|      569.0|\n",
      "|   filamentB|     200W|      555.0|\n",
      "|   filamentA|     200W|      541.0|\n",
      "+------------+---------+-----------+\n",
      "\n"
     ]
    },
    {
     "name": "stderr",
     "output_type": "stream",
     "text": [
      "                                                                                \r"
     ]
    }
   ],
   "source": [
    "filament_df = spark.read.csv(\n",
    "    \"file:////home/ashru/filament_data.csv\",\n",
    "    header=True,\n",
    "    schema=filament_data_schema,\n",
    "    mode=\"DROPMALFORMED\" # drops all corrupt data\n",
    ")\n",
    "\n",
    "\n",
    "filament_df.show()"
   ]
  },
  {
   "cell_type": "code",
   "execution_count": 4,
   "metadata": {},
   "outputs": [
    {
     "name": "stdout",
     "output_type": "stream",
     "text": [
      "root\n",
      " |-- FilamentType: string (nullable = true)\n",
      " |-- BulbPower: string (nullable = true)\n",
      " |-- LifeInHours: double (nullable = true)\n",
      "\n"
     ]
    }
   ],
   "source": [
    "filament_df.printSchema()"
   ]
  },
  {
   "cell_type": "code",
   "execution_count": 5,
   "metadata": {},
   "outputs": [
    {
     "name": "stdout",
     "output_type": "stream",
     "text": [
      "22/12/25 21:04:46 WARN CSVHeaderChecker: CSV header does not conform to the schema.\n",
      " Header: filamentType, BulbPower, Life\n",
      " Schema: FilamentType, BulbPower, LifeInHours\n",
      "Expected: LifeInHours but found: Life\n",
      "CSV file: file:///run/media/ashrulochan/Sector8/Books-and-Notes/To_be_continued/PySparkRecipes/filament_data.csv\n"
     ]
    },
    {
     "name": "stderr",
     "output_type": "stream",
     "text": [
      "                                                                                \r"
     ]
    },
    {
     "name": "stdout",
     "output_type": "stream",
     "text": [
      "+-------+------------+---------+-----------------+\n",
      "|summary|FilamentType|BulbPower|      LifeInHours|\n",
      "+-------+------------+---------+-----------------+\n",
      "|  count|          16|       16|               16|\n",
      "|   mean|        null|     null|         607.8125|\n",
      "| stddev|        null|     null|61.11652122517009|\n",
      "|    min|   filamentA|     100W|            520.0|\n",
      "|    max|   filamentB|     200W|            696.0|\n",
      "+-------+------------+---------+-----------------+\n",
      "\n"
     ]
    }
   ],
   "source": [
    "filament_df.describe().show()"
   ]
  },
  {
   "cell_type": "code",
   "execution_count": 7,
   "metadata": {},
   "outputs": [
    {
     "name": "stdout",
     "output_type": "stream",
     "text": [
      "filament type A: 8\n",
      "filament type B: 8\n"
     ]
    }
   ],
   "source": [
    "# number of data points from both filament types\n",
    "\n",
    "print(\"filament type A:\",filament_df.filter(filament_df.FilamentType=='filamentA').count())\n",
    "print(\"filament type B:\",filament_df.filter(filament_df.FilamentType=='filamentB').count())"
   ]
  },
  {
   "cell_type": "code",
   "execution_count": 8,
   "metadata": {},
   "outputs": [
    {
     "name": "stdout",
     "output_type": "stream",
     "text": [
      "8\n",
      "8\n"
     ]
    }
   ],
   "source": [
    "# number of bulbs with power 100W\n",
    "print(filament_df.filter(filament_df.BulbPower == '100W').count())\n",
    "\n",
    "# number of bulbs with power 2000W\n",
    "print(filament_df.filter(filament_df.BulbPower == '200W').count())"
   ]
  },
  {
   "cell_type": "code",
   "execution_count": 9,
   "metadata": {},
   "outputs": [
    {
     "name": "stdout",
     "output_type": "stream",
     "text": [
      "Filament Type B & Bulb Power 100W: 4\n",
      "Filament Type B & Bulb Power 200W: 4\n",
      "Filament Type A & Bulb Power 100W 4\n",
      "Filament Type A & Bulb Power 200W 4\n"
     ]
    }
   ],
   "source": [
    "# count of data points with filament type = B and bulb power = 100W\n",
    "print(\"Filament Type B & Bulb Power 100W:\",\\\n",
    "    filament_df.filter((filament_df.FilamentType=='filamentB') & (filament_df.BulbPower == '100W')).count())\n",
    "\n",
    "# count of data points with filament type = B and bulb power = 200W\n",
    "print(\"Filament Type B & Bulb Power 200W:\",\\\n",
    "    filament_df.filter((filament_df.FilamentType == 'filamentB') & (filament_df.BulbPower == '200W')).count())\n",
    "\n",
    "# count of data points with filament type = A and bulb power = 100W\n",
    "print(\"Filament Type A & Bulb Power 100W\", \\\n",
    "    filament_df.filter((filament_df.FilamentType == 'filamentA') & (filament_df.BulbPower == '100W')).count())\n",
    "\n",
    "# count of data points with filament type = A and bulb power = 200W\n",
    "print(\"Filament Type A & Bulb Power 200W\", \\\n",
    "    filament_df.filter((filament_df.FilamentType == 'filamentA') & (filament_df.BulbPower == '200W')).count())\n"
   ]
  },
  {
   "attachments": {},
   "cell_type": "markdown",
   "metadata": {},
   "source": [
    "### References\n",
    "\n",
    "- [Getting CSV file into PySpark DataFrame](https://stackoverflow.com/questions/29936156/get-csv-to-spark-dataframe)"
   ]
  }
 ],
 "metadata": {
  "kernelspec": {
   "display_name": "spark_ttl_env",
   "language": "python",
   "name": "python3"
  },
  "language_info": {
   "codemirror_mode": {
    "name": "ipython",
    "version": 3
   },
   "file_extension": ".py",
   "mimetype": "text/x-python",
   "name": "python",
   "nbconvert_exporter": "python",
   "pygments_lexer": "ipython3",
   "version": "3.10.9 (main, Dec  7 2022, 00:00:00) [GCC 12.2.1 20221121 (Red Hat 12.2.1-4)]"
  },
  "orig_nbformat": 4,
  "vscode": {
   "interpreter": {
    "hash": "7e5fe3c56a0f8f95c221320b0bd7b50af4bf76cfb19c727317c7f47c8ed217d1"
   }
  }
 },
 "nbformat": 4,
 "nbformat_minor": 2
}
